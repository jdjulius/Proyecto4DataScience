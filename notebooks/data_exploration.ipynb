{
 "cells": [
  {
   "cell_type": "code",
   "execution_count": 1,
   "metadata": {
    "ExecuteTime": {
     "end_time": "2023-09-16T04:02:26.696419Z",
     "start_time": "2023-09-16T04:02:26.684298800Z"
    }
   },
   "outputs": [],
   "source": [
    "import pandas as pd\n",
    "import matplotlib as plt\n",
    "import seaborn as sns"
   ]
  },
  {
   "cell_type": "code",
   "execution_count": 14,
   "outputs": [],
   "source": [
    "df = pd.read_csv(\"../data/raw/chocolate_ratings.csv\")\n",
    "dfc = df.copy()"
   ],
   "metadata": {
    "collapsed": false,
    "ExecuteTime": {
     "end_time": "2023-09-16T05:38:19.446339300Z",
     "start_time": "2023-09-16T05:38:19.419815Z"
    }
   }
  },
  {
   "cell_type": "code",
   "execution_count": 4,
   "outputs": [
    {
     "data": {
      "text/plain": "    REF Company (Manufacturer) Company Location  Review Date  \\\n0  2454                   5150           U.S.A.         2019   \n1  2458                   5150           U.S.A.         2019   \n2  2454                   5150           U.S.A.         2019   \n3  2542                   5150           U.S.A.         2021   \n4  2546                   5150           U.S.A.         2021   \n\n  Country of Bean Origin Specific Bean Origin or Bar Name Cocoa Percent  \\\n0               Tanzania            Kokoa Kamili, batch 1           76%   \n1     Dominican Republic                  Zorzal, batch 1           76%   \n2             Madagascar           Bejofo Estate, batch 1           76%   \n3                   Fiji            Matasawalevu, batch 1           68%   \n4              Venezuela            Sur del Lago, batch 1           72%   \n\n  Ingredients     Most Memorable Characteristics  Rating  \n0    3- B,S,C          rich cocoa, fatty, bready    3.25  \n1    3- B,S,C             cocoa, vegetal, savory    3.50  \n2    3- B,S,C       cocoa, blackberry, full body    3.75  \n3    3- B,S,C                chewy, off, rubbery    3.00  \n4    3- B,S,C  fatty, earthy, moss, nutty,chalky    3.00  ",
      "text/html": "<div>\n<style scoped>\n    .dataframe tbody tr th:only-of-type {\n        vertical-align: middle;\n    }\n\n    .dataframe tbody tr th {\n        vertical-align: top;\n    }\n\n    .dataframe thead th {\n        text-align: right;\n    }\n</style>\n<table border=\"1\" class=\"dataframe\">\n  <thead>\n    <tr style=\"text-align: right;\">\n      <th></th>\n      <th>REF</th>\n      <th>Company (Manufacturer)</th>\n      <th>Company Location</th>\n      <th>Review Date</th>\n      <th>Country of Bean Origin</th>\n      <th>Specific Bean Origin or Bar Name</th>\n      <th>Cocoa Percent</th>\n      <th>Ingredients</th>\n      <th>Most Memorable Characteristics</th>\n      <th>Rating</th>\n    </tr>\n  </thead>\n  <tbody>\n    <tr>\n      <th>0</th>\n      <td>2454</td>\n      <td>5150</td>\n      <td>U.S.A.</td>\n      <td>2019</td>\n      <td>Tanzania</td>\n      <td>Kokoa Kamili, batch 1</td>\n      <td>76%</td>\n      <td>3- B,S,C</td>\n      <td>rich cocoa, fatty, bready</td>\n      <td>3.25</td>\n    </tr>\n    <tr>\n      <th>1</th>\n      <td>2458</td>\n      <td>5150</td>\n      <td>U.S.A.</td>\n      <td>2019</td>\n      <td>Dominican Republic</td>\n      <td>Zorzal, batch 1</td>\n      <td>76%</td>\n      <td>3- B,S,C</td>\n      <td>cocoa, vegetal, savory</td>\n      <td>3.50</td>\n    </tr>\n    <tr>\n      <th>2</th>\n      <td>2454</td>\n      <td>5150</td>\n      <td>U.S.A.</td>\n      <td>2019</td>\n      <td>Madagascar</td>\n      <td>Bejofo Estate, batch 1</td>\n      <td>76%</td>\n      <td>3- B,S,C</td>\n      <td>cocoa, blackberry, full body</td>\n      <td>3.75</td>\n    </tr>\n    <tr>\n      <th>3</th>\n      <td>2542</td>\n      <td>5150</td>\n      <td>U.S.A.</td>\n      <td>2021</td>\n      <td>Fiji</td>\n      <td>Matasawalevu, batch 1</td>\n      <td>68%</td>\n      <td>3- B,S,C</td>\n      <td>chewy, off, rubbery</td>\n      <td>3.00</td>\n    </tr>\n    <tr>\n      <th>4</th>\n      <td>2546</td>\n      <td>5150</td>\n      <td>U.S.A.</td>\n      <td>2021</td>\n      <td>Venezuela</td>\n      <td>Sur del Lago, batch 1</td>\n      <td>72%</td>\n      <td>3- B,S,C</td>\n      <td>fatty, earthy, moss, nutty,chalky</td>\n      <td>3.00</td>\n    </tr>\n  </tbody>\n</table>\n</div>"
     },
     "execution_count": 4,
     "metadata": {},
     "output_type": "execute_result"
    }
   ],
   "source": [
    "df.head()"
   ],
   "metadata": {
    "collapsed": false,
    "ExecuteTime": {
     "end_time": "2023-09-16T04:04:57.589591Z",
     "start_time": "2023-09-16T04:04:57.557229Z"
    }
   }
  },
  {
   "cell_type": "code",
   "execution_count": 15,
   "outputs": [
    {
     "data": {
      "text/plain": "    REF Company (Manufacturer) Company Location  Review Date  \\\n0  2454                   5150           U.S.A.         2019   \n1  2458                   5150           U.S.A.         2019   \n2  2454                   5150           U.S.A.         2019   \n3  2542                   5150           U.S.A.         2021   \n4  2546                   5150           U.S.A.         2021   \n\n  Country of Bean Origin Specific Bean Origin or Bar Name Cocoa Percent  \\\n0               Tanzania            Kokoa Kamili, batch 1           76%   \n1     Dominican Republic                  Zorzal, batch 1           76%   \n2             Madagascar           Bejofo Estate, batch 1           76%   \n3                   Fiji            Matasawalevu, batch 1           68%   \n4              Venezuela            Sur del Lago, batch 1           72%   \n\n  Ingredients     Most Memorable Characteristics  Rating  \n0    3- B,S,C          rich cocoa, fatty, bready    3.25  \n1    3- B,S,C             cocoa, vegetal, savory    3.50  \n2    3- B,S,C       cocoa, blackberry, full body    3.75  \n3    3- B,S,C                chewy, off, rubbery    3.00  \n4    3- B,S,C  fatty, earthy, moss, nutty,chalky    3.00  ",
      "text/html": "<div>\n<style scoped>\n    .dataframe tbody tr th:only-of-type {\n        vertical-align: middle;\n    }\n\n    .dataframe tbody tr th {\n        vertical-align: top;\n    }\n\n    .dataframe thead th {\n        text-align: right;\n    }\n</style>\n<table border=\"1\" class=\"dataframe\">\n  <thead>\n    <tr style=\"text-align: right;\">\n      <th></th>\n      <th>REF</th>\n      <th>Company (Manufacturer)</th>\n      <th>Company Location</th>\n      <th>Review Date</th>\n      <th>Country of Bean Origin</th>\n      <th>Specific Bean Origin or Bar Name</th>\n      <th>Cocoa Percent</th>\n      <th>Ingredients</th>\n      <th>Most Memorable Characteristics</th>\n      <th>Rating</th>\n    </tr>\n  </thead>\n  <tbody>\n    <tr>\n      <th>0</th>\n      <td>2454</td>\n      <td>5150</td>\n      <td>U.S.A.</td>\n      <td>2019</td>\n      <td>Tanzania</td>\n      <td>Kokoa Kamili, batch 1</td>\n      <td>76%</td>\n      <td>3- B,S,C</td>\n      <td>rich cocoa, fatty, bready</td>\n      <td>3.25</td>\n    </tr>\n    <tr>\n      <th>1</th>\n      <td>2458</td>\n      <td>5150</td>\n      <td>U.S.A.</td>\n      <td>2019</td>\n      <td>Dominican Republic</td>\n      <td>Zorzal, batch 1</td>\n      <td>76%</td>\n      <td>3- B,S,C</td>\n      <td>cocoa, vegetal, savory</td>\n      <td>3.50</td>\n    </tr>\n    <tr>\n      <th>2</th>\n      <td>2454</td>\n      <td>5150</td>\n      <td>U.S.A.</td>\n      <td>2019</td>\n      <td>Madagascar</td>\n      <td>Bejofo Estate, batch 1</td>\n      <td>76%</td>\n      <td>3- B,S,C</td>\n      <td>cocoa, blackberry, full body</td>\n      <td>3.75</td>\n    </tr>\n    <tr>\n      <th>3</th>\n      <td>2542</td>\n      <td>5150</td>\n      <td>U.S.A.</td>\n      <td>2021</td>\n      <td>Fiji</td>\n      <td>Matasawalevu, batch 1</td>\n      <td>68%</td>\n      <td>3- B,S,C</td>\n      <td>chewy, off, rubbery</td>\n      <td>3.00</td>\n    </tr>\n    <tr>\n      <th>4</th>\n      <td>2546</td>\n      <td>5150</td>\n      <td>U.S.A.</td>\n      <td>2021</td>\n      <td>Venezuela</td>\n      <td>Sur del Lago, batch 1</td>\n      <td>72%</td>\n      <td>3- B,S,C</td>\n      <td>fatty, earthy, moss, nutty,chalky</td>\n      <td>3.00</td>\n    </tr>\n  </tbody>\n</table>\n</div>"
     },
     "execution_count": 15,
     "metadata": {},
     "output_type": "execute_result"
    }
   ],
   "source": [
    "dfc.head()"
   ],
   "metadata": {
    "collapsed": false,
    "ExecuteTime": {
     "end_time": "2023-09-16T05:38:30.152382200Z",
     "start_time": "2023-09-16T05:38:30.136184400Z"
    }
   }
  },
  {
   "cell_type": "code",
   "execution_count": 5,
   "outputs": [
    {
     "name": "stdout",
     "output_type": "stream",
     "text": [
      "<class 'pandas.core.frame.DataFrame'>\n",
      "RangeIndex: 2530 entries, 0 to 2529\n",
      "Data columns (total 10 columns):\n",
      " #   Column                            Non-Null Count  Dtype  \n",
      "---  ------                            --------------  -----  \n",
      " 0   REF                               2530 non-null   int64  \n",
      " 1   Company (Manufacturer)            2530 non-null   object \n",
      " 2   Company Location                  2530 non-null   object \n",
      " 3   Review Date                       2530 non-null   int64  \n",
      " 4   Country of Bean Origin            2530 non-null   object \n",
      " 5   Specific Bean Origin or Bar Name  2530 non-null   object \n",
      " 6   Cocoa Percent                     2530 non-null   object \n",
      " 7   Ingredients                       2443 non-null   object \n",
      " 8   Most Memorable Characteristics    2530 non-null   object \n",
      " 9   Rating                            2530 non-null   float64\n",
      "dtypes: float64(1), int64(2), object(7)\n",
      "memory usage: 197.8+ KB\n"
     ]
    }
   ],
   "source": [
    "df.info()"
   ],
   "metadata": {
    "collapsed": false,
    "ExecuteTime": {
     "end_time": "2023-09-16T04:13:04.867788200Z",
     "start_time": "2023-09-16T04:13:04.813999500Z"
    }
   }
  },
  {
   "cell_type": "code",
   "execution_count": 27,
   "outputs": [],
   "source": [
    "df = dfc"
   ],
   "metadata": {
    "collapsed": false,
    "ExecuteTime": {
     "end_time": "2023-09-16T05:42:24.319784200Z",
     "start_time": "2023-09-16T05:42:24.304272Z"
    }
   }
  },
  {
   "cell_type": "code",
   "execution_count": 28,
   "outputs": [],
   "source": [
    "# Separar columna Specific Bean Origin or Bar Name\n",
    "#df[\"Specific Bean Origin or Bar Name\"].value_counts()\n",
    "df['models_list'] = df['Specific Bean Origin or Bar Name'].str.split(',')\n",
    "df_models = pd.DataFrame(df['models_list'].tolist()).fillna('').add_prefix('originSpecific_')\n",
    "df = pd.concat([df, df_models], axis=1)\n",
    "df = df.drop(columns=['models_list'])\n",
    "df.head()"
   ],
   "metadata": {
    "collapsed": false,
    "ExecuteTime": {
     "end_time": "2023-09-16T05:42:28.474940400Z",
     "start_time": "2023-09-16T05:42:28.442941800Z"
    }
   }
  },
  {
   "cell_type": "code",
   "execution_count": 6,
   "outputs": [
    {
     "data": {
      "text/plain": "3- B,S,C          999\n2- B,S            718\n4- B,S,C,L        286\n5- B,S,C,V,L      184\n4- B,S,C,V        141\n2- B,S*            31\n4- B,S*,C,Sa       20\n3- B,S*,C          12\n3- B,S,L            8\n4- B,S*,C,V         7\n1- B                6\n5-B,S,C,V,Sa        6\n4- B,S,V,L          5\n4- B,S,C,Sa         5\n6-B,S,C,V,L,Sa      4\n3- B,S,V            3\n4- B,S*,V,L         3\n4- B,S*,C,L         2\n3- B,S*,Sa          1\n2- B,C              1\n5- B,S,C,L,Sa       1\nName: Ingredients, dtype: int64"
     },
     "execution_count": 6,
     "metadata": {},
     "output_type": "execute_result"
    }
   ],
   "source": [
    "# Separar columna Ingredients\n",
    "#df[\"Ingredients\"].value_counts()\n",
    "df['models_list'] = df['Ingredients'].str.split(',')\n",
    "df_models = pd.DataFrame(df['models_list'].tolist()).fillna('').add_prefix('ingredient_')\n",
    "df = pd.concat([df, df_models], axis=1)\n",
    "df = df.drop(columns=['models_list'])\n",
    "df.head()\n"
   ],
   "metadata": {
    "collapsed": false,
    "ExecuteTime": {
     "end_time": "2023-09-16T04:18:18.290471900Z",
     "start_time": "2023-09-16T04:18:18.286464900Z"
    }
   }
  },
  {
   "cell_type": "code",
   "execution_count": 8,
   "outputs": [
    {
     "data": {
      "text/plain": "spicy, cocoa                 4\ncreamy, nutty, cocoa         4\nsandy, sweet, cocoa          3\ncherry, rich choco           3\nsweet, marshmallow           3\n                            ..\nearthy, floral, cocoa        1\nsimple, mild cocoa, fruit    1\nspicy, sweet,                1\nfruity, roasty               1\nmuted, roasty, accessible    1\nName: Most Memorable Characteristics, Length: 2487, dtype: int64"
     },
     "execution_count": 8,
     "metadata": {},
     "output_type": "execute_result"
    }
   ],
   "source": [
    "# Separar columna Most Memorable Characteristics\n",
    "df[\"Most Memorable Characteristics\"].value_counts()\n",
    "df['models_list'] = df['Most Memorable Characteristics'].str.split(',')\n",
    "df_models = pd.DataFrame(df['models_list'].tolist()).fillna('').add_prefix('characteristic_')\n",
    "df = pd.concat([df, df_models], axis=1)\n",
    "df = df.drop(columns=['models_list'])\n",
    "df.head()"
   ],
   "metadata": {
    "collapsed": false,
    "ExecuteTime": {
     "end_time": "2023-09-16T04:23:08.696962800Z",
     "start_time": "2023-09-16T04:23:08.675929700Z"
    }
   }
  },
  {
   "cell_type": "code",
   "execution_count": null,
   "outputs": [],
   "source": [],
   "metadata": {
    "collapsed": false
   }
  },
  {
   "cell_type": "code",
   "execution_count": null,
   "outputs": [],
   "source": [],
   "metadata": {
    "collapsed": false
   }
  },
  {
   "cell_type": "code",
   "execution_count": null,
   "outputs": [],
   "source": [],
   "metadata": {
    "collapsed": false
   }
  },
  {
   "cell_type": "code",
   "execution_count": null,
   "outputs": [],
   "source": [],
   "metadata": {
    "collapsed": false
   }
  }
 ],
 "metadata": {
  "kernelspec": {
   "display_name": "Python 3.11.0 64-bit",
   "language": "python",
   "name": "python3"
  },
  "language_info": {
   "name": "python",
   "version": "3.11.0"
  },
  "orig_nbformat": 4,
  "vscode": {
   "interpreter": {
    "hash": "43daf46ee1a2bec30820ad54ca49c547678bba27ad881deae1888b1ba966de35"
   }
  }
 },
 "nbformat": 4,
 "nbformat_minor": 2
}
