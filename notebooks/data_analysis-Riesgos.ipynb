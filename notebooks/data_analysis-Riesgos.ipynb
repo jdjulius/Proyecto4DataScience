{
 "cells": [
  {
   "cell_type": "code",
   "execution_count": 1,
   "metadata": {
    "ExecuteTime": {
     "end_time": "2023-07-09T03:46:17.808615400Z",
     "start_time": "2023-07-09T03:46:17.793901800Z"
    }
   },
   "outputs": [],
   "source": [
    "import pandas as pd\n",
    "import matplotlib as plt\n",
    "import seaborn as sns"
   ]
  },
  {
   "cell_type": "code",
   "execution_count": 2,
   "outputs": [],
   "source": [
    "df = pd.read_csv(\"../data/raw/Data - Riesgos.csv\")"
   ],
   "metadata": {
    "collapsed": false,
    "ExecuteTime": {
     "end_time": "2023-07-09T03:47:44.336611200Z",
     "start_time": "2023-07-09T03:47:44.304084400Z"
    }
   }
  },
  {
   "cell_type": "code",
   "execution_count": 6,
   "outputs": [
    {
     "name": "stdout",
     "output_type": "stream",
     "text": [
      "<class 'pandas.core.frame.DataFrame'>\n",
      "RangeIndex: 4500 entries, 0 to 4499\n",
      "Data columns (total 10 columns):\n",
      " #   Column         Non-Null Count  Dtype  \n",
      "---  ------         --------------  -----  \n",
      " 0   ID             4500 non-null   int64  \n",
      " 1   edad           4487 non-null   float64\n",
      " 2   meses          4494 non-null   float64\n",
      " 3   max_ant        4496 non-null   float64\n",
      " 4   ingreso        4495 non-null   float64\n",
      " 5   score          4495 non-null   float64\n",
      " 6   tipo_vivienda  4500 non-null   int64  \n",
      " 7   zona           4494 non-null   float64\n",
      " 8   nivel          4500 non-null   int64  \n",
      " 9   riesgo         4500 non-null   int64  \n",
      "dtypes: float64(6), int64(4)\n",
      "memory usage: 351.7 KB\n"
     ]
    },
    {
     "data": {
      "text/plain": "     ID  edad  meses  max_ant  ingreso  score  tipo_vivienda  zona  nivel  \\\n0  2208  33.0  128.0      6.0   3230.0  192.0              2   3.0      2   \n1  2211  32.0  185.0      7.0   2930.0  217.0              2   1.0      5   \n2  2212  28.0    NaN      7.0   1883.7  202.0              2   1.0      2   \n3  2216  56.0  200.0      0.0    850.0  194.0              2   1.0      5   \n4  2218  32.0  131.0     65.0   3200.0  200.0              2   1.0      2   \n5  2219  34.0  145.0      6.0   7000.0  196.0              2   5.0      2   \n6  2226   NaN  114.0      0.0   2171.5  178.0              2   2.0      1   \n7  2227  27.0  116.0      0.0    800.0  169.0              2   1.0      5   \n8  2228  26.0  182.0      6.0   3150.0  190.0              4   3.0      5   \n9  2230  25.0  154.0      1.0   2600.0  189.0              2   1.0      2   \n\n   riesgo  \n0       1  \n1       1  \n2       1  \n3       1  \n4       1  \n5       1  \n6       1  \n7       1  \n8       1  \n9       1  ",
      "text/html": "<div>\n<style scoped>\n    .dataframe tbody tr th:only-of-type {\n        vertical-align: middle;\n    }\n\n    .dataframe tbody tr th {\n        vertical-align: top;\n    }\n\n    .dataframe thead th {\n        text-align: right;\n    }\n</style>\n<table border=\"1\" class=\"dataframe\">\n  <thead>\n    <tr style=\"text-align: right;\">\n      <th></th>\n      <th>ID</th>\n      <th>edad</th>\n      <th>meses</th>\n      <th>max_ant</th>\n      <th>ingreso</th>\n      <th>score</th>\n      <th>tipo_vivienda</th>\n      <th>zona</th>\n      <th>nivel</th>\n      <th>riesgo</th>\n    </tr>\n  </thead>\n  <tbody>\n    <tr>\n      <th>0</th>\n      <td>2208</td>\n      <td>33.0</td>\n      <td>128.0</td>\n      <td>6.0</td>\n      <td>3230.0</td>\n      <td>192.0</td>\n      <td>2</td>\n      <td>3.0</td>\n      <td>2</td>\n      <td>1</td>\n    </tr>\n    <tr>\n      <th>1</th>\n      <td>2211</td>\n      <td>32.0</td>\n      <td>185.0</td>\n      <td>7.0</td>\n      <td>2930.0</td>\n      <td>217.0</td>\n      <td>2</td>\n      <td>1.0</td>\n      <td>5</td>\n      <td>1</td>\n    </tr>\n    <tr>\n      <th>2</th>\n      <td>2212</td>\n      <td>28.0</td>\n      <td>NaN</td>\n      <td>7.0</td>\n      <td>1883.7</td>\n      <td>202.0</td>\n      <td>2</td>\n      <td>1.0</td>\n      <td>2</td>\n      <td>1</td>\n    </tr>\n    <tr>\n      <th>3</th>\n      <td>2216</td>\n      <td>56.0</td>\n      <td>200.0</td>\n      <td>0.0</td>\n      <td>850.0</td>\n      <td>194.0</td>\n      <td>2</td>\n      <td>1.0</td>\n      <td>5</td>\n      <td>1</td>\n    </tr>\n    <tr>\n      <th>4</th>\n      <td>2218</td>\n      <td>32.0</td>\n      <td>131.0</td>\n      <td>65.0</td>\n      <td>3200.0</td>\n      <td>200.0</td>\n      <td>2</td>\n      <td>1.0</td>\n      <td>2</td>\n      <td>1</td>\n    </tr>\n    <tr>\n      <th>5</th>\n      <td>2219</td>\n      <td>34.0</td>\n      <td>145.0</td>\n      <td>6.0</td>\n      <td>7000.0</td>\n      <td>196.0</td>\n      <td>2</td>\n      <td>5.0</td>\n      <td>2</td>\n      <td>1</td>\n    </tr>\n    <tr>\n      <th>6</th>\n      <td>2226</td>\n      <td>NaN</td>\n      <td>114.0</td>\n      <td>0.0</td>\n      <td>2171.5</td>\n      <td>178.0</td>\n      <td>2</td>\n      <td>2.0</td>\n      <td>1</td>\n      <td>1</td>\n    </tr>\n    <tr>\n      <th>7</th>\n      <td>2227</td>\n      <td>27.0</td>\n      <td>116.0</td>\n      <td>0.0</td>\n      <td>800.0</td>\n      <td>169.0</td>\n      <td>2</td>\n      <td>1.0</td>\n      <td>5</td>\n      <td>1</td>\n    </tr>\n    <tr>\n      <th>8</th>\n      <td>2228</td>\n      <td>26.0</td>\n      <td>182.0</td>\n      <td>6.0</td>\n      <td>3150.0</td>\n      <td>190.0</td>\n      <td>4</td>\n      <td>3.0</td>\n      <td>5</td>\n      <td>1</td>\n    </tr>\n    <tr>\n      <th>9</th>\n      <td>2230</td>\n      <td>25.0</td>\n      <td>154.0</td>\n      <td>1.0</td>\n      <td>2600.0</td>\n      <td>189.0</td>\n      <td>2</td>\n      <td>1.0</td>\n      <td>2</td>\n      <td>1</td>\n    </tr>\n  </tbody>\n</table>\n</div>"
     },
     "execution_count": 6,
     "metadata": {},
     "output_type": "execute_result"
    }
   ],
   "source": [
    "df.info()\n",
    "df.head(10)"
   ],
   "metadata": {
    "collapsed": false,
    "ExecuteTime": {
     "end_time": "2023-07-09T03:48:45.346867500Z",
     "start_time": "2023-07-09T03:48:45.311999800Z"
    }
   }
  },
  {
   "cell_type": "code",
   "execution_count": 27,
   "outputs": [
    {
     "data": {
      "text/plain": "2    3092\n4    1317\n1      50\n3      41\nName: tipo_vivienda, dtype: int64"
     },
     "execution_count": 27,
     "metadata": {},
     "output_type": "execute_result"
    }
   ],
   "source": [
    "df[\"tipo_vivienda\"].value_counts()"
   ],
   "metadata": {
    "collapsed": false,
    "ExecuteTime": {
     "end_time": "2023-07-09T04:36:04.107162600Z",
     "start_time": "2023-07-09T04:36:04.079510800Z"
    }
   }
  },
  {
   "cell_type": "code",
   "execution_count": 19,
   "outputs": [
    {
     "data": {
      "text/plain": "ID                0\nedad             13\nmeses             6\nmax_ant           4\ningreso           5\nscore             5\ntipo_vivienda     0\nzona              6\nnivel             0\nriesgo            0\ndtype: int64"
     },
     "execution_count": 19,
     "metadata": {},
     "output_type": "execute_result"
    }
   ],
   "source": [
    "df.isnull().sum()"
   ],
   "metadata": {
    "collapsed": false,
    "ExecuteTime": {
     "end_time": "2023-07-09T03:54:34.372389300Z",
     "start_time": "2023-07-09T03:54:34.358665900Z"
    }
   }
  },
  {
   "cell_type": "code",
   "execution_count": 21,
   "outputs": [
    {
     "data": {
      "text/plain": "       ID  edad  meses  max_ant   ingreso  score  tipo_vivienda  zona  nivel  \\\n6    2226   NaN  114.0      0.0   2171.50  178.0              2   2.0      1   \n34   2290   NaN  182.0      0.0   5000.00  214.0              4   1.0      2   \n56   2327   NaN  147.0     14.0    593.57  188.0              2   1.0      5   \n59   2331   NaN  116.0      0.0    901.51  168.0              4   1.0      5   \n83   2368   NaN  149.0     17.0   2300.00  187.0              2   1.0      2   \n106  2409   NaN  145.0      0.0   1350.00  156.0              2   3.0      5   \n157  2496   NaN  205.0     59.0  15531.00  197.0              2   3.0      2   \n209  2587   NaN  257.0      0.0   3905.00  185.0              2   1.0      5   \n259  2688   NaN  160.0      0.0    773.00  192.0              2   1.0      5   \n314  2792   NaN  177.0      0.0   1381.97  178.0              4   1.0      5   \n389  2942   NaN  158.0      0.0   1840.00  173.0              2   1.0      5   \n517  3179   NaN  178.0     18.0   2300.00  192.0              2   3.0      2   \n586  3318   NaN  126.0      0.0   1800.00  207.0              2   1.0      2   \n\n     riesgo  \n6         1  \n34        1  \n56        1  \n59        1  \n83        1  \n106       1  \n157       1  \n209       1  \n259       1  \n314       1  \n389       1  \n517       1  \n586       1  ",
      "text/html": "<div>\n<style scoped>\n    .dataframe tbody tr th:only-of-type {\n        vertical-align: middle;\n    }\n\n    .dataframe tbody tr th {\n        vertical-align: top;\n    }\n\n    .dataframe thead th {\n        text-align: right;\n    }\n</style>\n<table border=\"1\" class=\"dataframe\">\n  <thead>\n    <tr style=\"text-align: right;\">\n      <th></th>\n      <th>ID</th>\n      <th>edad</th>\n      <th>meses</th>\n      <th>max_ant</th>\n      <th>ingreso</th>\n      <th>score</th>\n      <th>tipo_vivienda</th>\n      <th>zona</th>\n      <th>nivel</th>\n      <th>riesgo</th>\n    </tr>\n  </thead>\n  <tbody>\n    <tr>\n      <th>6</th>\n      <td>2226</td>\n      <td>NaN</td>\n      <td>114.0</td>\n      <td>0.0</td>\n      <td>2171.50</td>\n      <td>178.0</td>\n      <td>2</td>\n      <td>2.0</td>\n      <td>1</td>\n      <td>1</td>\n    </tr>\n    <tr>\n      <th>34</th>\n      <td>2290</td>\n      <td>NaN</td>\n      <td>182.0</td>\n      <td>0.0</td>\n      <td>5000.00</td>\n      <td>214.0</td>\n      <td>4</td>\n      <td>1.0</td>\n      <td>2</td>\n      <td>1</td>\n    </tr>\n    <tr>\n      <th>56</th>\n      <td>2327</td>\n      <td>NaN</td>\n      <td>147.0</td>\n      <td>14.0</td>\n      <td>593.57</td>\n      <td>188.0</td>\n      <td>2</td>\n      <td>1.0</td>\n      <td>5</td>\n      <td>1</td>\n    </tr>\n    <tr>\n      <th>59</th>\n      <td>2331</td>\n      <td>NaN</td>\n      <td>116.0</td>\n      <td>0.0</td>\n      <td>901.51</td>\n      <td>168.0</td>\n      <td>4</td>\n      <td>1.0</td>\n      <td>5</td>\n      <td>1</td>\n    </tr>\n    <tr>\n      <th>83</th>\n      <td>2368</td>\n      <td>NaN</td>\n      <td>149.0</td>\n      <td>17.0</td>\n      <td>2300.00</td>\n      <td>187.0</td>\n      <td>2</td>\n      <td>1.0</td>\n      <td>2</td>\n      <td>1</td>\n    </tr>\n    <tr>\n      <th>106</th>\n      <td>2409</td>\n      <td>NaN</td>\n      <td>145.0</td>\n      <td>0.0</td>\n      <td>1350.00</td>\n      <td>156.0</td>\n      <td>2</td>\n      <td>3.0</td>\n      <td>5</td>\n      <td>1</td>\n    </tr>\n    <tr>\n      <th>157</th>\n      <td>2496</td>\n      <td>NaN</td>\n      <td>205.0</td>\n      <td>59.0</td>\n      <td>15531.00</td>\n      <td>197.0</td>\n      <td>2</td>\n      <td>3.0</td>\n      <td>2</td>\n      <td>1</td>\n    </tr>\n    <tr>\n      <th>209</th>\n      <td>2587</td>\n      <td>NaN</td>\n      <td>257.0</td>\n      <td>0.0</td>\n      <td>3905.00</td>\n      <td>185.0</td>\n      <td>2</td>\n      <td>1.0</td>\n      <td>5</td>\n      <td>1</td>\n    </tr>\n    <tr>\n      <th>259</th>\n      <td>2688</td>\n      <td>NaN</td>\n      <td>160.0</td>\n      <td>0.0</td>\n      <td>773.00</td>\n      <td>192.0</td>\n      <td>2</td>\n      <td>1.0</td>\n      <td>5</td>\n      <td>1</td>\n    </tr>\n    <tr>\n      <th>314</th>\n      <td>2792</td>\n      <td>NaN</td>\n      <td>177.0</td>\n      <td>0.0</td>\n      <td>1381.97</td>\n      <td>178.0</td>\n      <td>4</td>\n      <td>1.0</td>\n      <td>5</td>\n      <td>1</td>\n    </tr>\n    <tr>\n      <th>389</th>\n      <td>2942</td>\n      <td>NaN</td>\n      <td>158.0</td>\n      <td>0.0</td>\n      <td>1840.00</td>\n      <td>173.0</td>\n      <td>2</td>\n      <td>1.0</td>\n      <td>5</td>\n      <td>1</td>\n    </tr>\n    <tr>\n      <th>517</th>\n      <td>3179</td>\n      <td>NaN</td>\n      <td>178.0</td>\n      <td>18.0</td>\n      <td>2300.00</td>\n      <td>192.0</td>\n      <td>2</td>\n      <td>3.0</td>\n      <td>2</td>\n      <td>1</td>\n    </tr>\n    <tr>\n      <th>586</th>\n      <td>3318</td>\n      <td>NaN</td>\n      <td>126.0</td>\n      <td>0.0</td>\n      <td>1800.00</td>\n      <td>207.0</td>\n      <td>2</td>\n      <td>1.0</td>\n      <td>2</td>\n      <td>1</td>\n    </tr>\n  </tbody>\n</table>\n</div>"
     },
     "execution_count": 21,
     "metadata": {},
     "output_type": "execute_result"
    }
   ],
   "source": [
    "df[df[\"edad\"].isna()]"
   ],
   "metadata": {
    "collapsed": false,
    "ExecuteTime": {
     "end_time": "2023-07-09T03:55:21.269096400Z",
     "start_time": "2023-07-09T03:55:21.248053500Z"
    }
   }
  },
  {
   "cell_type": "code",
   "execution_count": 30,
   "outputs": [
    {
     "data": {
      "text/plain": "riesgo           0     1\ntipo_vivienda           \n1               18    32\n2              858  2234\n3                6    35\n4              468   849",
      "text/html": "<div>\n<style scoped>\n    .dataframe tbody tr th:only-of-type {\n        vertical-align: middle;\n    }\n\n    .dataframe tbody tr th {\n        vertical-align: top;\n    }\n\n    .dataframe thead th {\n        text-align: right;\n    }\n</style>\n<table border=\"1\" class=\"dataframe\">\n  <thead>\n    <tr style=\"text-align: right;\">\n      <th>riesgo</th>\n      <th>0</th>\n      <th>1</th>\n    </tr>\n    <tr>\n      <th>tipo_vivienda</th>\n      <th></th>\n      <th></th>\n    </tr>\n  </thead>\n  <tbody>\n    <tr>\n      <th>1</th>\n      <td>18</td>\n      <td>32</td>\n    </tr>\n    <tr>\n      <th>2</th>\n      <td>858</td>\n      <td>2234</td>\n    </tr>\n    <tr>\n      <th>3</th>\n      <td>6</td>\n      <td>35</td>\n    </tr>\n    <tr>\n      <th>4</th>\n      <td>468</td>\n      <td>849</td>\n    </tr>\n  </tbody>\n</table>\n</div>"
     },
     "execution_count": 30,
     "metadata": {},
     "output_type": "execute_result"
    }
   ],
   "source": [
    "pd.crosstab(df[\"tipo_vivienda\"], df[\"riesgo\"])"
   ],
   "metadata": {
    "collapsed": false,
    "ExecuteTime": {
     "end_time": "2023-07-09T04:37:25.347116300Z",
     "start_time": "2023-07-09T04:37:25.324078700Z"
    }
   }
  },
  {
   "cell_type": "code",
   "execution_count": 31,
   "outputs": [
    {
     "data": {
      "text/plain": "riesgo                   0            1\ntipo_vivienda                          \n1              9416.074444  7758.401250\n2              4742.843753  3256.323456\n3              2903.571667  2410.949143\n4              8106.362009  5392.906541",
      "text/html": "<div>\n<style scoped>\n    .dataframe tbody tr th:only-of-type {\n        vertical-align: middle;\n    }\n\n    .dataframe tbody tr th {\n        vertical-align: top;\n    }\n\n    .dataframe thead th {\n        text-align: right;\n    }\n</style>\n<table border=\"1\" class=\"dataframe\">\n  <thead>\n    <tr style=\"text-align: right;\">\n      <th>riesgo</th>\n      <th>0</th>\n      <th>1</th>\n    </tr>\n    <tr>\n      <th>tipo_vivienda</th>\n      <th></th>\n      <th></th>\n    </tr>\n  </thead>\n  <tbody>\n    <tr>\n      <th>1</th>\n      <td>9416.074444</td>\n      <td>7758.401250</td>\n    </tr>\n    <tr>\n      <th>2</th>\n      <td>4742.843753</td>\n      <td>3256.323456</td>\n    </tr>\n    <tr>\n      <th>3</th>\n      <td>2903.571667</td>\n      <td>2410.949143</td>\n    </tr>\n    <tr>\n      <th>4</th>\n      <td>8106.362009</td>\n      <td>5392.906541</td>\n    </tr>\n  </tbody>\n</table>\n</div>"
     },
     "execution_count": 31,
     "metadata": {},
     "output_type": "execute_result"
    }
   ],
   "source": [
    "pd.crosstab(df[\"tipo_vivienda\"], df[\"riesgo\"], values=df[\"ingreso\"], aggfunc=\"mean\")"
   ],
   "metadata": {
    "collapsed": false,
    "ExecuteTime": {
     "end_time": "2023-07-09T04:38:30.258433900Z",
     "start_time": "2023-07-09T04:38:30.228569500Z"
    }
   }
  },
  {
   "cell_type": "markdown",
   "source": [],
   "metadata": {
    "collapsed": false
   }
  }
 ],
 "metadata": {
  "kernelspec": {
   "display_name": "Python 3.11.0 64-bit",
   "language": "python",
   "name": "python3"
  },
  "language_info": {
   "name": "python",
   "version": "3.11.0"
  },
  "orig_nbformat": 4,
  "vscode": {
   "interpreter": {
    "hash": "43daf46ee1a2bec30820ad54ca49c547678bba27ad881deae1888b1ba966de35"
   }
  }
 },
 "nbformat": 4,
 "nbformat_minor": 2
}
