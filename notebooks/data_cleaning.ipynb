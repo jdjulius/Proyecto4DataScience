{
 "cells": [
  {
   "cell_type": "code",
   "execution_count": 2,
   "metadata": {
    "ExecuteTime": {
     "end_time": "2023-06-13T13:20:18.714025600Z",
     "start_time": "2023-06-13T13:20:18.607513200Z"
    }
   },
   "outputs": [],
   "source": [
    "import pandas as pd\n",
    "import numpy as np\n",
    "import seaborn as sd\n"
   ]
  },
  {
   "cell_type": "code",
   "execution_count": 3,
   "outputs": [],
   "source": [
    "data = pd.read_csv('../data/raw/data_act_01.csv', sep=';')"
   ],
   "metadata": {
    "collapsed": false,
    "ExecuteTime": {
     "end_time": "2023-06-13T13:20:18.787547200Z",
     "start_time": "2023-06-13T13:20:18.615512200Z"
    }
   }
  },
  {
   "cell_type": "code",
   "execution_count": 4,
   "outputs": [
    {
     "data": {
      "text/plain": "         CrimeId OriginalCrimeTypeName          OffenseDate CallTime  \\\n0      160903280     Assault / Battery  2016-03-30T00:00:00    18:42   \n1      160912272    Homeless Complaint  2016-03-31T00:00:00    15:31   \n2      160912590             Susp Info  2016-03-31T00:00:00    16:49   \n3      160912801                Report  2016-03-31T00:00:00    17:38   \n4      160912811                   594  2016-03-31T00:00:00    17:42   \n...          ...                   ...                  ...      ...   \n10046  160964210      Well Being Check  2016-04-05T00:00:00    23:38   \n10047  160964216          Traffic Stop  2016-04-05T00:00:00    23:43   \n10048  160964227          Traffic Stop  2016-04-05T00:00:00    23:48   \n10049  160964229          Passing Call  2016-04-05T00:00:00    23:48   \n10050  160964249          Traffic Stop  2016-04-05T00:00:00    23:54   \n\n              CallDateTime   Disposition                  Address  \\\n0      2016-03-30T18:42:00           REP  100 Block Of Chilton Av   \n1      2016-03-31T15:31:00           GOA  2300 Block Of Market St   \n2      2016-03-31T16:49:00           GOA  2300 Block Of Market St   \n3      2016-03-31T17:38:00           GOA      500 Block Of 7th St   \n4      2016-03-31T17:42:00           REP       Beale St/bryant St   \n...                    ...           ...                      ...   \n10046  2016-04-05T23:38:00           GOA    Hollister Av/hawes St   \n10047  2016-04-05T23:43:00           ADV   California St/mason St   \n10048  2016-04-05T23:48:00           CIT   Rosella Ct/onondaga Av   \n10049  2016-04-05T23:48:00  Not recorded          0 Blk Herbst Rd   \n10050  2016-04-05T23:54:00           ADV        Grant Av/geary St   \n\n                City State AgencyId  Range      AddressType  \n0      San Francisco    CA        1    NaN  Premise Address  \n1      San Francisco    CA        1    NaN  Premise Address  \n2      San Francisco    CA        1    NaN  Premise Address  \n3      San Francisco    CA        1    NaN  Premise Address  \n4      San Francisco    CA        1    NaN     Intersection  \n...              ...   ...      ...    ...              ...  \n10046  San Francisco    CA        1    NaN     Intersection  \n10047  San Francisco    CA        1    NaN     Intersection  \n10048  San Francisco    CA        1    NaN     Intersection  \n10049  San Francisco    CA        1    NaN     Geo-Override  \n10050  San Francisco    CA        1    NaN     Intersection  \n\n[10051 rows x 12 columns]",
      "text/html": "<div>\n<style scoped>\n    .dataframe tbody tr th:only-of-type {\n        vertical-align: middle;\n    }\n\n    .dataframe tbody tr th {\n        vertical-align: top;\n    }\n\n    .dataframe thead th {\n        text-align: right;\n    }\n</style>\n<table border=\"1\" class=\"dataframe\">\n  <thead>\n    <tr style=\"text-align: right;\">\n      <th></th>\n      <th>CrimeId</th>\n      <th>OriginalCrimeTypeName</th>\n      <th>OffenseDate</th>\n      <th>CallTime</th>\n      <th>CallDateTime</th>\n      <th>Disposition</th>\n      <th>Address</th>\n      <th>City</th>\n      <th>State</th>\n      <th>AgencyId</th>\n      <th>Range</th>\n      <th>AddressType</th>\n    </tr>\n  </thead>\n  <tbody>\n    <tr>\n      <th>0</th>\n      <td>160903280</td>\n      <td>Assault / Battery</td>\n      <td>2016-03-30T00:00:00</td>\n      <td>18:42</td>\n      <td>2016-03-30T18:42:00</td>\n      <td>REP</td>\n      <td>100 Block Of Chilton Av</td>\n      <td>San Francisco</td>\n      <td>CA</td>\n      <td>1</td>\n      <td>NaN</td>\n      <td>Premise Address</td>\n    </tr>\n    <tr>\n      <th>1</th>\n      <td>160912272</td>\n      <td>Homeless Complaint</td>\n      <td>2016-03-31T00:00:00</td>\n      <td>15:31</td>\n      <td>2016-03-31T15:31:00</td>\n      <td>GOA</td>\n      <td>2300 Block Of Market St</td>\n      <td>San Francisco</td>\n      <td>CA</td>\n      <td>1</td>\n      <td>NaN</td>\n      <td>Premise Address</td>\n    </tr>\n    <tr>\n      <th>2</th>\n      <td>160912590</td>\n      <td>Susp Info</td>\n      <td>2016-03-31T00:00:00</td>\n      <td>16:49</td>\n      <td>2016-03-31T16:49:00</td>\n      <td>GOA</td>\n      <td>2300 Block Of Market St</td>\n      <td>San Francisco</td>\n      <td>CA</td>\n      <td>1</td>\n      <td>NaN</td>\n      <td>Premise Address</td>\n    </tr>\n    <tr>\n      <th>3</th>\n      <td>160912801</td>\n      <td>Report</td>\n      <td>2016-03-31T00:00:00</td>\n      <td>17:38</td>\n      <td>2016-03-31T17:38:00</td>\n      <td>GOA</td>\n      <td>500 Block Of 7th St</td>\n      <td>San Francisco</td>\n      <td>CA</td>\n      <td>1</td>\n      <td>NaN</td>\n      <td>Premise Address</td>\n    </tr>\n    <tr>\n      <th>4</th>\n      <td>160912811</td>\n      <td>594</td>\n      <td>2016-03-31T00:00:00</td>\n      <td>17:42</td>\n      <td>2016-03-31T17:42:00</td>\n      <td>REP</td>\n      <td>Beale St/bryant St</td>\n      <td>San Francisco</td>\n      <td>CA</td>\n      <td>1</td>\n      <td>NaN</td>\n      <td>Intersection</td>\n    </tr>\n    <tr>\n      <th>...</th>\n      <td>...</td>\n      <td>...</td>\n      <td>...</td>\n      <td>...</td>\n      <td>...</td>\n      <td>...</td>\n      <td>...</td>\n      <td>...</td>\n      <td>...</td>\n      <td>...</td>\n      <td>...</td>\n      <td>...</td>\n    </tr>\n    <tr>\n      <th>10046</th>\n      <td>160964210</td>\n      <td>Well Being Check</td>\n      <td>2016-04-05T00:00:00</td>\n      <td>23:38</td>\n      <td>2016-04-05T23:38:00</td>\n      <td>GOA</td>\n      <td>Hollister Av/hawes St</td>\n      <td>San Francisco</td>\n      <td>CA</td>\n      <td>1</td>\n      <td>NaN</td>\n      <td>Intersection</td>\n    </tr>\n    <tr>\n      <th>10047</th>\n      <td>160964216</td>\n      <td>Traffic Stop</td>\n      <td>2016-04-05T00:00:00</td>\n      <td>23:43</td>\n      <td>2016-04-05T23:43:00</td>\n      <td>ADV</td>\n      <td>California St/mason St</td>\n      <td>San Francisco</td>\n      <td>CA</td>\n      <td>1</td>\n      <td>NaN</td>\n      <td>Intersection</td>\n    </tr>\n    <tr>\n      <th>10048</th>\n      <td>160964227</td>\n      <td>Traffic Stop</td>\n      <td>2016-04-05T00:00:00</td>\n      <td>23:48</td>\n      <td>2016-04-05T23:48:00</td>\n      <td>CIT</td>\n      <td>Rosella Ct/onondaga Av</td>\n      <td>San Francisco</td>\n      <td>CA</td>\n      <td>1</td>\n      <td>NaN</td>\n      <td>Intersection</td>\n    </tr>\n    <tr>\n      <th>10049</th>\n      <td>160964229</td>\n      <td>Passing Call</td>\n      <td>2016-04-05T00:00:00</td>\n      <td>23:48</td>\n      <td>2016-04-05T23:48:00</td>\n      <td>Not recorded</td>\n      <td>0 Blk Herbst Rd</td>\n      <td>San Francisco</td>\n      <td>CA</td>\n      <td>1</td>\n      <td>NaN</td>\n      <td>Geo-Override</td>\n    </tr>\n    <tr>\n      <th>10050</th>\n      <td>160964249</td>\n      <td>Traffic Stop</td>\n      <td>2016-04-05T00:00:00</td>\n      <td>23:54</td>\n      <td>2016-04-05T23:54:00</td>\n      <td>ADV</td>\n      <td>Grant Av/geary St</td>\n      <td>San Francisco</td>\n      <td>CA</td>\n      <td>1</td>\n      <td>NaN</td>\n      <td>Intersection</td>\n    </tr>\n  </tbody>\n</table>\n<p>10051 rows × 12 columns</p>\n</div>"
     },
     "execution_count": 4,
     "metadata": {},
     "output_type": "execute_result"
    }
   ],
   "source": [
    "data"
   ],
   "metadata": {
    "collapsed": false,
    "ExecuteTime": {
     "end_time": "2023-06-13T13:20:18.792542100Z",
     "start_time": "2023-06-13T13:20:18.663026Z"
    }
   }
  },
  {
   "cell_type": "code",
   "execution_count": 5,
   "outputs": [
    {
     "data": {
      "text/plain": "CrimeId                    int64\nOriginalCrimeTypeName     object\nOffenseDate               object\nCallTime                  object\nCallDateTime              object\nDisposition               object\nAddress                   object\nCity                      object\nState                     object\nAgencyId                  object\nRange                    float64\nAddressType               object\ndtype: object"
     },
     "execution_count": 5,
     "metadata": {},
     "output_type": "execute_result"
    }
   ],
   "source": [
    "data.dtypes"
   ],
   "metadata": {
    "collapsed": false,
    "ExecuteTime": {
     "end_time": "2023-06-13T13:20:18.800543700Z",
     "start_time": "2023-06-13T13:20:18.695027500Z"
    }
   }
  },
  {
   "cell_type": "code",
   "execution_count": 6,
   "outputs": [
    {
     "name": "stdout",
     "output_type": "stream",
     "text": [
      "<class 'pandas.core.frame.DataFrame'>\n",
      "RangeIndex: 10051 entries, 0 to 10050\n",
      "Data columns (total 12 columns):\n",
      " #   Column                 Non-Null Count  Dtype  \n",
      "---  ------                 --------------  -----  \n",
      " 0   CrimeId                10051 non-null  int64  \n",
      " 1   OriginalCrimeTypeName  10051 non-null  object \n",
      " 2   OffenseDate            10051 non-null  object \n",
      " 3   CallTime               10051 non-null  object \n",
      " 4   CallDateTime           10051 non-null  object \n",
      " 5   Disposition            10051 non-null  object \n",
      " 6   Address                10051 non-null  object \n",
      " 7   City                   9730 non-null   object \n",
      " 8   State                  10048 non-null  object \n",
      " 9   AgencyId               10051 non-null  object \n",
      " 10  Range                  0 non-null      float64\n",
      " 11  AddressType            10051 non-null  object \n",
      "dtypes: float64(1), int64(1), object(10)\n",
      "memory usage: 942.4+ KB\n"
     ]
    }
   ],
   "source": [
    "data.info()"
   ],
   "metadata": {
    "collapsed": false,
    "ExecuteTime": {
     "end_time": "2023-06-13T13:20:18.801555900Z",
     "start_time": "2023-06-13T13:20:18.714025600Z"
    }
   }
  },
  {
   "cell_type": "code",
   "execution_count": 7,
   "outputs": [
    {
     "data": {
      "text/plain": "     CrimeId OriginalCrimeTypeName          OffenseDate CallTime  \\\n0  160903280     Assault / Battery  2016-03-30T00:00:00    18:42   \n1  160912272    Homeless Complaint  2016-03-31T00:00:00    15:31   \n2  160912590             Susp Info  2016-03-31T00:00:00    16:49   \n3  160912801                Report  2016-03-31T00:00:00    17:38   \n4  160912811                   594  2016-03-31T00:00:00    17:42   \n\n          CallDateTime Disposition                  Address           City  \\\n0  2016-03-30T18:42:00         REP  100 Block Of Chilton Av  San Francisco   \n1  2016-03-31T15:31:00         GOA  2300 Block Of Market St  San Francisco   \n2  2016-03-31T16:49:00         GOA  2300 Block Of Market St  San Francisco   \n3  2016-03-31T17:38:00         GOA      500 Block Of 7th St  San Francisco   \n4  2016-03-31T17:42:00         REP       Beale St/bryant St  San Francisco   \n\n  State AgencyId  Range      AddressType  \n0    CA        1    NaN  Premise Address  \n1    CA        1    NaN  Premise Address  \n2    CA        1    NaN  Premise Address  \n3    CA        1    NaN  Premise Address  \n4    CA        1    NaN     Intersection  ",
      "text/html": "<div>\n<style scoped>\n    .dataframe tbody tr th:only-of-type {\n        vertical-align: middle;\n    }\n\n    .dataframe tbody tr th {\n        vertical-align: top;\n    }\n\n    .dataframe thead th {\n        text-align: right;\n    }\n</style>\n<table border=\"1\" class=\"dataframe\">\n  <thead>\n    <tr style=\"text-align: right;\">\n      <th></th>\n      <th>CrimeId</th>\n      <th>OriginalCrimeTypeName</th>\n      <th>OffenseDate</th>\n      <th>CallTime</th>\n      <th>CallDateTime</th>\n      <th>Disposition</th>\n      <th>Address</th>\n      <th>City</th>\n      <th>State</th>\n      <th>AgencyId</th>\n      <th>Range</th>\n      <th>AddressType</th>\n    </tr>\n  </thead>\n  <tbody>\n    <tr>\n      <th>0</th>\n      <td>160903280</td>\n      <td>Assault / Battery</td>\n      <td>2016-03-30T00:00:00</td>\n      <td>18:42</td>\n      <td>2016-03-30T18:42:00</td>\n      <td>REP</td>\n      <td>100 Block Of Chilton Av</td>\n      <td>San Francisco</td>\n      <td>CA</td>\n      <td>1</td>\n      <td>NaN</td>\n      <td>Premise Address</td>\n    </tr>\n    <tr>\n      <th>1</th>\n      <td>160912272</td>\n      <td>Homeless Complaint</td>\n      <td>2016-03-31T00:00:00</td>\n      <td>15:31</td>\n      <td>2016-03-31T15:31:00</td>\n      <td>GOA</td>\n      <td>2300 Block Of Market St</td>\n      <td>San Francisco</td>\n      <td>CA</td>\n      <td>1</td>\n      <td>NaN</td>\n      <td>Premise Address</td>\n    </tr>\n    <tr>\n      <th>2</th>\n      <td>160912590</td>\n      <td>Susp Info</td>\n      <td>2016-03-31T00:00:00</td>\n      <td>16:49</td>\n      <td>2016-03-31T16:49:00</td>\n      <td>GOA</td>\n      <td>2300 Block Of Market St</td>\n      <td>San Francisco</td>\n      <td>CA</td>\n      <td>1</td>\n      <td>NaN</td>\n      <td>Premise Address</td>\n    </tr>\n    <tr>\n      <th>3</th>\n      <td>160912801</td>\n      <td>Report</td>\n      <td>2016-03-31T00:00:00</td>\n      <td>17:38</td>\n      <td>2016-03-31T17:38:00</td>\n      <td>GOA</td>\n      <td>500 Block Of 7th St</td>\n      <td>San Francisco</td>\n      <td>CA</td>\n      <td>1</td>\n      <td>NaN</td>\n      <td>Premise Address</td>\n    </tr>\n    <tr>\n      <th>4</th>\n      <td>160912811</td>\n      <td>594</td>\n      <td>2016-03-31T00:00:00</td>\n      <td>17:42</td>\n      <td>2016-03-31T17:42:00</td>\n      <td>REP</td>\n      <td>Beale St/bryant St</td>\n      <td>San Francisco</td>\n      <td>CA</td>\n      <td>1</td>\n      <td>NaN</td>\n      <td>Intersection</td>\n    </tr>\n  </tbody>\n</table>\n</div>"
     },
     "execution_count": 7,
     "metadata": {},
     "output_type": "execute_result"
    }
   ],
   "source": [
    "data.head()"
   ],
   "metadata": {
    "collapsed": false,
    "ExecuteTime": {
     "end_time": "2023-06-13T13:20:18.802545500Z",
     "start_time": "2023-06-13T13:20:18.748540400Z"
    }
   }
  },
  {
   "cell_type": "code",
   "execution_count": 8,
   "outputs": [
    {
     "data": {
      "text/plain": "         CrimeId OriginalCrimeTypeName          OffenseDate CallTime  \\\n10046  160964210      Well Being Check  2016-04-05T00:00:00    23:38   \n10047  160964216          Traffic Stop  2016-04-05T00:00:00    23:43   \n10048  160964227          Traffic Stop  2016-04-05T00:00:00    23:48   \n10049  160964229          Passing Call  2016-04-05T00:00:00    23:48   \n10050  160964249          Traffic Stop  2016-04-05T00:00:00    23:54   \n\n              CallDateTime   Disposition                 Address  \\\n10046  2016-04-05T23:38:00           GOA   Hollister Av/hawes St   \n10047  2016-04-05T23:43:00           ADV  California St/mason St   \n10048  2016-04-05T23:48:00           CIT  Rosella Ct/onondaga Av   \n10049  2016-04-05T23:48:00  Not recorded         0 Blk Herbst Rd   \n10050  2016-04-05T23:54:00           ADV       Grant Av/geary St   \n\n                City State AgencyId  Range   AddressType  \n10046  San Francisco    CA        1    NaN  Intersection  \n10047  San Francisco    CA        1    NaN  Intersection  \n10048  San Francisco    CA        1    NaN  Intersection  \n10049  San Francisco    CA        1    NaN  Geo-Override  \n10050  San Francisco    CA        1    NaN  Intersection  ",
      "text/html": "<div>\n<style scoped>\n    .dataframe tbody tr th:only-of-type {\n        vertical-align: middle;\n    }\n\n    .dataframe tbody tr th {\n        vertical-align: top;\n    }\n\n    .dataframe thead th {\n        text-align: right;\n    }\n</style>\n<table border=\"1\" class=\"dataframe\">\n  <thead>\n    <tr style=\"text-align: right;\">\n      <th></th>\n      <th>CrimeId</th>\n      <th>OriginalCrimeTypeName</th>\n      <th>OffenseDate</th>\n      <th>CallTime</th>\n      <th>CallDateTime</th>\n      <th>Disposition</th>\n      <th>Address</th>\n      <th>City</th>\n      <th>State</th>\n      <th>AgencyId</th>\n      <th>Range</th>\n      <th>AddressType</th>\n    </tr>\n  </thead>\n  <tbody>\n    <tr>\n      <th>10046</th>\n      <td>160964210</td>\n      <td>Well Being Check</td>\n      <td>2016-04-05T00:00:00</td>\n      <td>23:38</td>\n      <td>2016-04-05T23:38:00</td>\n      <td>GOA</td>\n      <td>Hollister Av/hawes St</td>\n      <td>San Francisco</td>\n      <td>CA</td>\n      <td>1</td>\n      <td>NaN</td>\n      <td>Intersection</td>\n    </tr>\n    <tr>\n      <th>10047</th>\n      <td>160964216</td>\n      <td>Traffic Stop</td>\n      <td>2016-04-05T00:00:00</td>\n      <td>23:43</td>\n      <td>2016-04-05T23:43:00</td>\n      <td>ADV</td>\n      <td>California St/mason St</td>\n      <td>San Francisco</td>\n      <td>CA</td>\n      <td>1</td>\n      <td>NaN</td>\n      <td>Intersection</td>\n    </tr>\n    <tr>\n      <th>10048</th>\n      <td>160964227</td>\n      <td>Traffic Stop</td>\n      <td>2016-04-05T00:00:00</td>\n      <td>23:48</td>\n      <td>2016-04-05T23:48:00</td>\n      <td>CIT</td>\n      <td>Rosella Ct/onondaga Av</td>\n      <td>San Francisco</td>\n      <td>CA</td>\n      <td>1</td>\n      <td>NaN</td>\n      <td>Intersection</td>\n    </tr>\n    <tr>\n      <th>10049</th>\n      <td>160964229</td>\n      <td>Passing Call</td>\n      <td>2016-04-05T00:00:00</td>\n      <td>23:48</td>\n      <td>2016-04-05T23:48:00</td>\n      <td>Not recorded</td>\n      <td>0 Blk Herbst Rd</td>\n      <td>San Francisco</td>\n      <td>CA</td>\n      <td>1</td>\n      <td>NaN</td>\n      <td>Geo-Override</td>\n    </tr>\n    <tr>\n      <th>10050</th>\n      <td>160964249</td>\n      <td>Traffic Stop</td>\n      <td>2016-04-05T00:00:00</td>\n      <td>23:54</td>\n      <td>2016-04-05T23:54:00</td>\n      <td>ADV</td>\n      <td>Grant Av/geary St</td>\n      <td>San Francisco</td>\n      <td>CA</td>\n      <td>1</td>\n      <td>NaN</td>\n      <td>Intersection</td>\n    </tr>\n  </tbody>\n</table>\n</div>"
     },
     "execution_count": 8,
     "metadata": {},
     "output_type": "execute_result"
    }
   ],
   "source": [
    "data.tail()"
   ],
   "metadata": {
    "collapsed": false,
    "ExecuteTime": {
     "end_time": "2023-06-13T13:20:18.803542700Z",
     "start_time": "2023-06-13T13:20:18.764544800Z"
    }
   }
  },
  {
   "cell_type": "code",
   "execution_count": 9,
   "outputs": [
    {
     "data": {
      "text/plain": "count    1.005100e+04\nmean     1.609394e+08\nstd      1.327006e+04\nmin      1.609033e+08\n25%      1.609303e+08\n50%      1.609408e+08\n75%      1.609513e+08\nmax      1.609642e+08\nName: CrimeId, dtype: float64"
     },
     "execution_count": 9,
     "metadata": {},
     "output_type": "execute_result"
    }
   ],
   "source": [
    "data[\"CrimeId\"].describe()"
   ],
   "metadata": {
    "collapsed": false,
    "ExecuteTime": {
     "end_time": "2023-06-13T13:20:18.826545100Z",
     "start_time": "2023-06-13T13:20:18.773542200Z"
    }
   }
  },
  {
   "cell_type": "code",
   "execution_count": 10,
   "outputs": [
    {
     "data": {
      "text/plain": "count            10051\nunique             575\ntop       Traffic Stop\nfreq              1215\nName: OriginalCrimeTypeName, dtype: object"
     },
     "execution_count": 10,
     "metadata": {},
     "output_type": "execute_result"
    }
   ],
   "source": [
    "data[\"OriginalCrimeTypeName\"].describe()"
   ],
   "metadata": {
    "collapsed": false,
    "ExecuteTime": {
     "end_time": "2023-06-13T13:20:18.827546500Z",
     "start_time": "2023-06-13T13:20:18.791541700Z"
    }
   }
  },
  {
   "cell_type": "code",
   "execution_count": 11,
   "outputs": [
    {
     "data": {
      "text/plain": "count                   10051\nunique                      9\ntop       2016-04-02T00:00:00\nfreq                     2259\nName: OffenseDate, dtype: object"
     },
     "execution_count": 11,
     "metadata": {},
     "output_type": "execute_result"
    }
   ],
   "source": [
    "data[\"OffenseDate\"].describe()\n"
   ],
   "metadata": {
    "collapsed": false,
    "ExecuteTime": {
     "end_time": "2023-06-13T13:20:18.901832300Z",
     "start_time": "2023-06-13T13:20:18.804542300Z"
    }
   }
  },
  {
   "cell_type": "code",
   "execution_count": 12,
   "outputs": [
    {
     "data": {
      "text/plain": "count                   10051\nunique                   5116\ntop       2016-04-04T12:23:00\nfreq                        8\nName: CallDateTime, dtype: object"
     },
     "execution_count": 12,
     "metadata": {},
     "output_type": "execute_result"
    }
   ],
   "source": [
    "data[\"CallDateTime\"].describe()\n"
   ],
   "metadata": {
    "collapsed": false,
    "ExecuteTime": {
     "end_time": "2023-06-13T13:20:18.941840700Z",
     "start_time": "2023-06-13T13:20:18.827546500Z"
    }
   }
  },
  {
   "cell_type": "code",
   "execution_count": 13,
   "outputs": [
    {
     "data": {
      "text/plain": "count     10051\nunique       19\ntop         HAN\nfreq       2820\nName: Disposition, dtype: object"
     },
     "execution_count": 13,
     "metadata": {},
     "output_type": "execute_result"
    }
   ],
   "source": [
    "data[\"Disposition\"].describe()\n"
   ],
   "metadata": {
    "collapsed": false,
    "ExecuteTime": {
     "end_time": "2023-06-13T13:20:19.003099700Z",
     "start_time": "2023-06-13T13:20:18.850846300Z"
    }
   }
  },
  {
   "cell_type": "code",
   "execution_count": 14,
   "outputs": [
    {
     "data": {
      "text/plain": "count                      10051\nunique                      5387\ntop       900 Block Of Market St\nfreq                          58\nName: Address, dtype: object"
     },
     "execution_count": 14,
     "metadata": {},
     "output_type": "execute_result"
    }
   ],
   "source": [
    "data[\"Address\"].describe()\n"
   ],
   "metadata": {
    "collapsed": false,
    "ExecuteTime": {
     "end_time": "2023-06-13T13:20:19.086844600Z",
     "start_time": "2023-06-13T13:20:18.870831500Z"
    }
   }
  },
  {
   "cell_type": "code",
   "execution_count": 15,
   "outputs": [
    {
     "data": {
      "text/plain": "count              9730\nunique                8\ntop       San Francisco\nfreq               9665\nName: City, dtype: object"
     },
     "execution_count": 15,
     "metadata": {},
     "output_type": "execute_result"
    }
   ],
   "source": [
    "data[\"City\"].describe()\n"
   ],
   "metadata": {
    "collapsed": false,
    "ExecuteTime": {
     "end_time": "2023-06-13T13:20:19.086844600Z",
     "start_time": "2023-06-13T13:20:18.883833900Z"
    }
   }
  },
  {
   "cell_type": "code",
   "execution_count": 16,
   "outputs": [
    {
     "data": {
      "text/plain": "count     10048\nunique        1\ntop          CA\nfreq      10048\nName: State, dtype: object"
     },
     "execution_count": 16,
     "metadata": {},
     "output_type": "execute_result"
    }
   ],
   "source": [
    "data[\"State\"].describe()\n"
   ],
   "metadata": {
    "collapsed": false,
    "ExecuteTime": {
     "end_time": "2023-06-13T13:20:19.129059100Z",
     "start_time": "2023-06-13T13:20:18.897832900Z"
    }
   }
  },
  {
   "cell_type": "code",
   "execution_count": 17,
   "outputs": [
    {
     "data": {
      "text/plain": "count     10051\nunique        2\ntop           1\nfreq      10048\nName: AgencyId, dtype: object"
     },
     "execution_count": 17,
     "metadata": {},
     "output_type": "execute_result"
    }
   ],
   "source": [
    "data[\"AgencyId\"].describe()\n"
   ],
   "metadata": {
    "collapsed": false,
    "ExecuteTime": {
     "end_time": "2023-06-13T13:20:19.226572700Z",
     "start_time": "2023-06-13T13:20:18.918832Z"
    }
   }
  },
  {
   "cell_type": "code",
   "execution_count": 47,
   "outputs": [
    {
     "name": "stdout",
     "output_type": "stream",
     "text": [
      "26               Vandalism\n",
      "1707                  Susp\n",
      "3792          Passing Call\n",
      "7045          Passing Call\n",
      "7046    Suspicious Vehicle\n",
      "7047            Trespasser\n",
      "Name: OriginalCrimeTypeName, dtype: object\n"
     ]
    }
   ],
   "source": [
    "duplicados = data.loc[data.duplicated('CrimeId', keep=False)]['OriginalCrimeTypeName']\n",
    "print(duplicados)"
   ],
   "metadata": {
    "collapsed": false,
    "ExecuteTime": {
     "end_time": "2023-06-13T13:43:21.971036400Z",
     "start_time": "2023-06-13T13:43:21.944997400Z"
    }
   }
  },
  {
   "cell_type": "code",
   "execution_count": 45,
   "outputs": [
    {
     "name": "stdout",
     "output_type": "stream",
     "text": [
      "CrimeId\n",
      "160903280    1\n",
      "160912272    1\n",
      "160912590    1\n",
      "160912801    1\n",
      "160912811    1\n",
      "            ..\n",
      "160964210    1\n",
      "160964216    1\n",
      "160964227    1\n",
      "160964229    1\n",
      "160964249    1\n",
      "Name: CrimeId, Length: 10047, dtype: int64\n"
     ]
    }
   ],
   "source": [
    "query1 = data.groupby(\"CrimeId\")['CrimeId'].count()\n",
    "query2 = data.groupby(\"OriginalCrimeTypeName\")['OriginalCrimeTypeName'].count()\n",
    "query3 = data.groupby(\"OffenseDate\")['OffenseDate'].count()\n",
    "query4 = data.groupby(\"CallTime\")['CallTime'].count()\n",
    "query5 = data.groupby(\"CallDateTime\")['CallDateTime'].count()\n",
    "query6 = data.groupby(\"Disposition\")['Disposition'].count()\n",
    "query7 = data.groupby(\"Address\")['Address'].count()\n",
    "query8 = data.groupby(\"City\")['City'].count()\n",
    "query9 = data.groupby(\"State\")['State'].count()\n",
    "query10 = data.groupby(\"AgencyId\")['AgencyId'].count()\n",
    "query11 = data.groupby(\"Range\")['Range'].count()\n",
    "query12 = data.groupby(\"AddressType\")['AddressType'].count()\n",
    "\n",
    "print(query1)\n"
   ],
   "metadata": {
    "collapsed": false,
    "ExecuteTime": {
     "end_time": "2023-06-13T13:42:40.285355200Z",
     "start_time": "2023-06-13T13:42:40.230305700Z"
    }
   }
  },
  {
   "cell_type": "code",
   "execution_count": 20,
   "outputs": [],
   "source": [
    "data.to_json(\"../data/processed/data.json\")"
   ],
   "metadata": {
    "collapsed": false,
    "ExecuteTime": {
     "end_time": "2023-06-13T13:20:19.289746Z",
     "start_time": "2023-06-13T13:20:18.992100500Z"
    }
   }
  },
  {
   "cell_type": "code",
   "execution_count": 20,
   "outputs": [],
   "source": [],
   "metadata": {
    "collapsed": false,
    "ExecuteTime": {
     "end_time": "2023-06-13T13:20:19.303747800Z",
     "start_time": "2023-06-13T13:20:19.024100400Z"
    }
   }
  },
  {
   "cell_type": "markdown",
   "source": [
    "# Estructura de fichero\n",
    "\n",
    "1.\tTe has encontrado con un fichero CSV cuyo formato es:\n",
    "a. Fichero de valores sin comillas y separados por comas.\n",
    "b. Fichero de valores sin comillas y separados por punto y coma. <------------------------\n",
    "c. Fichero de valores con comillas y separados por comas.\n",
    "d. Fichero de valores con comillas y separados por punto y coma.\n"
   ],
   "metadata": {
    "collapsed": false
   }
  },
  {
   "cell_type": "markdown",
   "source": [
    "2.\t¿Existe algún campo con valores únicos que pueda servir de clave principal?\n",
    "a. Sí, y realmente son registros únicos. <------------------------------------------------\n",
    "b. No, y es necesario incluir otro campo más para conseguir una clave principal.\n",
    "c. Sí, pero es recomendable utilizar otro campo más para conseguir una clave principal.\n",
    "d. Sí, pero existen registros duplicados que impiden la unicidad del campo.\n"
   ],
   "metadata": {
    "collapsed": false
   }
  },
  {
   "cell_type": "markdown",
   "source": [
    "3.\tEn relación con los campos del fichero y los valores que contienen, la siguiente afirmación es verdadera:\n",
    "a.\tExisten tres campos que son nulos en su totalidad y pueden ser eliminados del fichero.\n",
    "b.\tTodos los campos tienen valores y, por ello, deben mantenerse en el fichero.\n",
    "c.\tExiste un campo que no contiene información y podría eliminarse del fichero. <-------------------------------\n",
    "d.\tExisten campos con cadenas de textos repetidas que podrían ser eliminados del fichero.\n"
   ],
   "metadata": {
    "collapsed": false
   }
  },
  {
   "cell_type": "markdown",
   "source": [
    "4.\tDespués de revisar el fichero con detenimiento, se puede decir que los siguientes son problemas que existen en el fichero:\n",
    "a.\tExisten registros que por su ID directamente son duplicados y deben eliminarse.\n",
    "b.\tExisten registros cuyos ID están duplicados, pero podrían no ser registros duplicados y, por ello, eliminarlos no debe ser la primera opción.\n",
    "c.\tExisten registros que están desplazados dentro del fichero.<----------------------------------\n",
    "d.\tExisten campos con formato de fechas diferentes.\n"
   ],
   "metadata": {
    "collapsed": false
   }
  },
  {
   "cell_type": "markdown",
   "source": [
    "5.\tDespués de revisar los valores con formato de cadenas o string, se puede decir que los siguientes son problemas que existen en el fichero:\n",
    "a.\tHay campos numéricos discretos con formato de cadena en campos que son numéricos. <--------------------------\n",
    "b.\tExisten valores de cadena con problemas de comillas simples y dobles.\n",
    "c.\tExisten valores de cadena que no son uniformes ni están normalizados.\n",
    "d.\tExisten campos categóricos que tipifican datos y no están normalizados.\n"
   ],
   "metadata": {
    "collapsed": false
   }
  },
  {
   "cell_type": "markdown",
   "source": [
    "6.\tDespués de identificar y eliminar todos los problemas del fichero CSV, si este se convierte a JSON, la estructura y el formato a continuación son los que más se aproximan al resultado final:\n",
    "a.\tOpción 1.\n",
    "b.\tOpción 2.\n",
    "c.\tOpción 3. <-------------------------------------\n",
    "d.\tOpción 4.\n"
   ],
   "metadata": {
    "collapsed": false
   }
  },
  {
   "cell_type": "markdown",
   "source": [
    "7.\tEn esta actividad has llevado a cabo algunas tareas de limpieza que son necesarias para almacenar los datos. Partiendo de este objetivo, si en un proyecto de datos recibirás muchos ficheros en los que puede variar el número de campos, el tipo de datos y la cantidad de registros, qué formato de fichero recomendarías para recibir toda esa información y minimizar los pasos en el almacenamiento:\n",
    "a.\tCSV y XML.\n",
    "b.\tCSV, XML y JSON.\n",
    "c.\tJSON<----------------------------\n",
    "d.\tCSV\n"
   ],
   "metadata": {
    "collapsed": false
   }
  }
 ],
 "metadata": {
  "kernelspec": {
   "display_name": "Python 3.11.0 64-bit",
   "language": "python",
   "name": "python3"
  },
  "language_info": {
   "name": "python",
   "version": "3.11.0"
  },
  "orig_nbformat": 4,
  "vscode": {
   "interpreter": {
    "hash": "43daf46ee1a2bec30820ad54ca49c547678bba27ad881deae1888b1ba966de35"
   }
  }
 },
 "nbformat": 4,
 "nbformat_minor": 2
}
