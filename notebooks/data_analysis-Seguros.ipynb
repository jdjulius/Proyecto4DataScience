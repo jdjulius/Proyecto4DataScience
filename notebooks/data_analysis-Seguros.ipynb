{
 "cells": [
  {
   "cell_type": "code",
   "execution_count": 4,
   "metadata": {
    "ExecuteTime": {
     "end_time": "2023-07-09T05:04:02.600605200Z",
     "start_time": "2023-07-09T05:04:02.586086Z"
    }
   },
   "outputs": [],
   "source": [
    "import pandas as pd\n",
    "import matplotlib as plt\n",
    "import seaborn as sns"
   ]
  },
  {
   "cell_type": "code",
   "execution_count": 8,
   "outputs": [],
   "source": [
    "df = pd.read_csv(\"../data/raw/datos_seguros.csv\",delimiter=';')"
   ],
   "metadata": {
    "collapsed": false,
    "ExecuteTime": {
     "end_time": "2023-07-09T05:04:50.795694700Z",
     "start_time": "2023-07-09T05:04:50.720394600Z"
    }
   }
  },
  {
   "cell_type": "code",
   "execution_count": 9,
   "outputs": [
    {
     "name": "stdout",
     "output_type": "stream",
     "text": [
      "<class 'pandas.core.frame.DataFrame'>\n",
      "RangeIndex: 45798 entries, 0 to 45797\n",
      "Data columns (total 17 columns):\n",
      " #   Column                   Non-Null Count  Dtype  \n",
      "---  ------                   --------------  -----  \n",
      " 0   MES_T0                   45798 non-null  int64  \n",
      " 1   VENTA_SEGURO             45798 non-null  int64  \n",
      " 2   NUM_TC_TOTAL_T2          25397 non-null  float64\n",
      " 3   SALDO_BCO_T2             25452 non-null  float64\n",
      " 4   LINEA_BCO_T2             25452 non-null  float64\n",
      " 5   USO_LINEA_BCO_T2         25452 non-null  float64\n",
      " 6   Nro_CTa_Ahorro_Bco_T1    44405 non-null  float64\n",
      " 7   Ahorro_Sldo_Bco_T1       44405 non-null  float64\n",
      " 8   monto_ope_t2             32927 non-null  float64\n",
      " 9   PROM_ANUAL_MTO_OPERA     32927 non-null  float64\n",
      " 10  MAX_MTO_OPERA_Anual      32927 non-null  float64\n",
      " 11  Ratio_HospvsMtoTotal_t2  29719 non-null  float64\n",
      " 12  SEXO                     45798 non-null  object \n",
      " 13  ANTIGUEDAD_MES           45798 non-null  int64  \n",
      " 14  DEPARTAMENTO             45798 non-null  object \n",
      " 15  SOW_BCO_T2               45798 non-null  float64\n",
      " 16  SOW_BCO_SEMESTRAL        45798 non-null  float64\n",
      "dtypes: float64(12), int64(3), object(2)\n",
      "memory usage: 5.9+ MB\n"
     ]
    },
    {
     "data": {
      "text/plain": "   MES_T0  VENTA_SEGURO  NUM_TC_TOTAL_T2  SALDO_BCO_T2  LINEA_BCO_T2  \\\n0  201506             0              3.0           0.0        2300.0   \n1  201506             0              2.0        3215.0        3500.0   \n2  201506             0              1.0        3169.0        5000.0   \n3  201506             1              1.0        6495.0        8450.0   \n4  201506             0              NaN           NaN           NaN   \n5  201506             0              3.0        2373.0        9373.0   \n6  201506             0              2.0           0.0           0.0   \n7  201506             0              1.0        3023.0       16720.0   \n8  201506             0              1.0        1931.0       12500.0   \n9  201506             0              NaN           NaN           NaN   \n\n   USO_LINEA_BCO_T2  Nro_CTa_Ahorro_Bco_T1  Ahorro_Sldo_Bco_T1  monto_ope_t2  \\\n0          0.000000                    0.0                 0.0         15.00   \n1          0.918571                    0.0                 0.0        548.98   \n2          0.633800                    0.0                 0.0          0.00   \n3          0.768639                    2.0               505.0       2137.94   \n4               NaN                    0.0                 0.0         12.37   \n5          0.253174                    0.0                 0.0        411.86   \n6          0.000000                    1.0              2662.0         46.00   \n7          0.180801                    0.0                 0.0       2982.90   \n8          0.154480                    0.0                 0.0        412.00   \n9               NaN                    2.0             40718.0       1644.30   \n\n   PROM_ANUAL_MTO_OPERA  MAX_MTO_OPERA_Anual  Ratio_HospvsMtoTotal_t2 SEXO  \\\n0             18.644444                52.80                      NaN    M   \n1           2632.020000              5709.24                      NaN    M   \n2           4999.000000              4999.00                      0.0    M   \n3           4900.191666             11206.80                      NaN    F   \n4             12.370000                12.37                      NaN    F   \n5           1410.662727              5055.62                      NaN    M   \n6            218.393333               390.90                      NaN    M   \n7           1721.769166              3137.70                      0.0    M   \n8            986.337500              2119.00                      NaN    M   \n9           1581.335000              3565.14                      NaN    F   \n\n   ANTIGUEDAD_MES DEPARTAMENTO  SOW_BCO_T2  SOW_BCO_SEMESTRAL  \n0              58         LIMA    0.000000           0.000000  \n1              69        JUNIN    0.816134           0.930867  \n2              16       CALLAO    1.000000           1.000000  \n3              62         LIMA    0.413831           0.505504  \n4               5     AREQUIPA    0.000000           0.000000  \n5              44       CALLAO    0.181633           0.677393  \n6               4         LIMA    0.000000           0.000000  \n7             136         LIMA    1.000000           1.000000  \n8             292         LIMA    0.278603           0.541839  \n9              49     AREQUIPA    0.000000           0.000000  ",
      "text/html": "<div>\n<style scoped>\n    .dataframe tbody tr th:only-of-type {\n        vertical-align: middle;\n    }\n\n    .dataframe tbody tr th {\n        vertical-align: top;\n    }\n\n    .dataframe thead th {\n        text-align: right;\n    }\n</style>\n<table border=\"1\" class=\"dataframe\">\n  <thead>\n    <tr style=\"text-align: right;\">\n      <th></th>\n      <th>MES_T0</th>\n      <th>VENTA_SEGURO</th>\n      <th>NUM_TC_TOTAL_T2</th>\n      <th>SALDO_BCO_T2</th>\n      <th>LINEA_BCO_T2</th>\n      <th>USO_LINEA_BCO_T2</th>\n      <th>Nro_CTa_Ahorro_Bco_T1</th>\n      <th>Ahorro_Sldo_Bco_T1</th>\n      <th>monto_ope_t2</th>\n      <th>PROM_ANUAL_MTO_OPERA</th>\n      <th>MAX_MTO_OPERA_Anual</th>\n      <th>Ratio_HospvsMtoTotal_t2</th>\n      <th>SEXO</th>\n      <th>ANTIGUEDAD_MES</th>\n      <th>DEPARTAMENTO</th>\n      <th>SOW_BCO_T2</th>\n      <th>SOW_BCO_SEMESTRAL</th>\n    </tr>\n  </thead>\n  <tbody>\n    <tr>\n      <th>0</th>\n      <td>201506</td>\n      <td>0</td>\n      <td>3.0</td>\n      <td>0.0</td>\n      <td>2300.0</td>\n      <td>0.000000</td>\n      <td>0.0</td>\n      <td>0.0</td>\n      <td>15.00</td>\n      <td>18.644444</td>\n      <td>52.80</td>\n      <td>NaN</td>\n      <td>M</td>\n      <td>58</td>\n      <td>LIMA</td>\n      <td>0.000000</td>\n      <td>0.000000</td>\n    </tr>\n    <tr>\n      <th>1</th>\n      <td>201506</td>\n      <td>0</td>\n      <td>2.0</td>\n      <td>3215.0</td>\n      <td>3500.0</td>\n      <td>0.918571</td>\n      <td>0.0</td>\n      <td>0.0</td>\n      <td>548.98</td>\n      <td>2632.020000</td>\n      <td>5709.24</td>\n      <td>NaN</td>\n      <td>M</td>\n      <td>69</td>\n      <td>JUNIN</td>\n      <td>0.816134</td>\n      <td>0.930867</td>\n    </tr>\n    <tr>\n      <th>2</th>\n      <td>201506</td>\n      <td>0</td>\n      <td>1.0</td>\n      <td>3169.0</td>\n      <td>5000.0</td>\n      <td>0.633800</td>\n      <td>0.0</td>\n      <td>0.0</td>\n      <td>0.00</td>\n      <td>4999.000000</td>\n      <td>4999.00</td>\n      <td>0.0</td>\n      <td>M</td>\n      <td>16</td>\n      <td>CALLAO</td>\n      <td>1.000000</td>\n      <td>1.000000</td>\n    </tr>\n    <tr>\n      <th>3</th>\n      <td>201506</td>\n      <td>1</td>\n      <td>1.0</td>\n      <td>6495.0</td>\n      <td>8450.0</td>\n      <td>0.768639</td>\n      <td>2.0</td>\n      <td>505.0</td>\n      <td>2137.94</td>\n      <td>4900.191666</td>\n      <td>11206.80</td>\n      <td>NaN</td>\n      <td>F</td>\n      <td>62</td>\n      <td>LIMA</td>\n      <td>0.413831</td>\n      <td>0.505504</td>\n    </tr>\n    <tr>\n      <th>4</th>\n      <td>201506</td>\n      <td>0</td>\n      <td>NaN</td>\n      <td>NaN</td>\n      <td>NaN</td>\n      <td>NaN</td>\n      <td>0.0</td>\n      <td>0.0</td>\n      <td>12.37</td>\n      <td>12.370000</td>\n      <td>12.37</td>\n      <td>NaN</td>\n      <td>F</td>\n      <td>5</td>\n      <td>AREQUIPA</td>\n      <td>0.000000</td>\n      <td>0.000000</td>\n    </tr>\n    <tr>\n      <th>5</th>\n      <td>201506</td>\n      <td>0</td>\n      <td>3.0</td>\n      <td>2373.0</td>\n      <td>9373.0</td>\n      <td>0.253174</td>\n      <td>0.0</td>\n      <td>0.0</td>\n      <td>411.86</td>\n      <td>1410.662727</td>\n      <td>5055.62</td>\n      <td>NaN</td>\n      <td>M</td>\n      <td>44</td>\n      <td>CALLAO</td>\n      <td>0.181633</td>\n      <td>0.677393</td>\n    </tr>\n    <tr>\n      <th>6</th>\n      <td>201506</td>\n      <td>0</td>\n      <td>2.0</td>\n      <td>0.0</td>\n      <td>0.0</td>\n      <td>0.000000</td>\n      <td>1.0</td>\n      <td>2662.0</td>\n      <td>46.00</td>\n      <td>218.393333</td>\n      <td>390.90</td>\n      <td>NaN</td>\n      <td>M</td>\n      <td>4</td>\n      <td>LIMA</td>\n      <td>0.000000</td>\n      <td>0.000000</td>\n    </tr>\n    <tr>\n      <th>7</th>\n      <td>201506</td>\n      <td>0</td>\n      <td>1.0</td>\n      <td>3023.0</td>\n      <td>16720.0</td>\n      <td>0.180801</td>\n      <td>0.0</td>\n      <td>0.0</td>\n      <td>2982.90</td>\n      <td>1721.769166</td>\n      <td>3137.70</td>\n      <td>0.0</td>\n      <td>M</td>\n      <td>136</td>\n      <td>LIMA</td>\n      <td>1.000000</td>\n      <td>1.000000</td>\n    </tr>\n    <tr>\n      <th>8</th>\n      <td>201506</td>\n      <td>0</td>\n      <td>1.0</td>\n      <td>1931.0</td>\n      <td>12500.0</td>\n      <td>0.154480</td>\n      <td>0.0</td>\n      <td>0.0</td>\n      <td>412.00</td>\n      <td>986.337500</td>\n      <td>2119.00</td>\n      <td>NaN</td>\n      <td>M</td>\n      <td>292</td>\n      <td>LIMA</td>\n      <td>0.278603</td>\n      <td>0.541839</td>\n    </tr>\n    <tr>\n      <th>9</th>\n      <td>201506</td>\n      <td>0</td>\n      <td>NaN</td>\n      <td>NaN</td>\n      <td>NaN</td>\n      <td>NaN</td>\n      <td>2.0</td>\n      <td>40718.0</td>\n      <td>1644.30</td>\n      <td>1581.335000</td>\n      <td>3565.14</td>\n      <td>NaN</td>\n      <td>F</td>\n      <td>49</td>\n      <td>AREQUIPA</td>\n      <td>0.000000</td>\n      <td>0.000000</td>\n    </tr>\n  </tbody>\n</table>\n</div>"
     },
     "execution_count": 9,
     "metadata": {},
     "output_type": "execute_result"
    }
   ],
   "source": [
    "df.info()\n",
    "df.head(10)"
   ],
   "metadata": {
    "collapsed": false,
    "ExecuteTime": {
     "end_time": "2023-07-09T05:04:52.695331800Z",
     "start_time": "2023-07-09T05:04:52.655319200Z"
    }
   }
  },
  {
   "cell_type": "code",
   "execution_count": 10,
   "outputs": [
    {
     "data": {
      "text/plain": "201506    23301\n201505    22497\nName: MES_T0, dtype: int64"
     },
     "execution_count": 10,
     "metadata": {},
     "output_type": "execute_result"
    }
   ],
   "source": [
    "df[\"MES_T0\"].value_counts()"
   ],
   "metadata": {
    "collapsed": false,
    "ExecuteTime": {
     "end_time": "2023-07-09T05:10:22.642639600Z",
     "start_time": "2023-07-09T05:10:22.640634900Z"
    }
   }
  },
  {
   "cell_type": "code",
   "execution_count": 12,
   "outputs": [
    {
     "data": {
      "text/plain": "MES_T0                         0\nVENTA_SEGURO                   0\nNUM_TC_TOTAL_T2            20401\nSALDO_BCO_T2               20346\nLINEA_BCO_T2               20346\nUSO_LINEA_BCO_T2           20346\nNro_CTa_Ahorro_Bco_T1       1393\nAhorro_Sldo_Bco_T1          1393\nmonto_ope_t2               12871\nPROM_ANUAL_MTO_OPERA       12871\nMAX_MTO_OPERA_Anual        12871\nRatio_HospvsMtoTotal_t2    16079\nSEXO                           0\nANTIGUEDAD_MES                 0\nDEPARTAMENTO                   0\nSOW_BCO_T2                     0\nSOW_BCO_SEMESTRAL              0\ndtype: int64"
     },
     "execution_count": 12,
     "metadata": {},
     "output_type": "execute_result"
    }
   ],
   "source": [
    "df.isnull().sum()"
   ],
   "metadata": {
    "collapsed": false,
    "ExecuteTime": {
     "end_time": "2023-07-09T05:11:27.045838500Z",
     "start_time": "2023-07-09T05:11:27.005165800Z"
    }
   }
  },
  {
   "cell_type": "code",
   "execution_count": 11,
   "outputs": [],
   "source": [],
   "metadata": {
    "collapsed": false,
    "ExecuteTime": {
     "end_time": "2023-07-09T05:11:22.679769300Z",
     "start_time": "2023-07-09T05:11:22.658268100Z"
    }
   }
  },
  {
   "cell_type": "code",
   "execution_count": 11,
   "outputs": [],
   "source": [],
   "metadata": {
    "collapsed": false,
    "ExecuteTime": {
     "end_time": "2023-07-09T05:11:17.565328800Z",
     "start_time": "2023-07-09T05:11:17.555773100Z"
    }
   }
  },
  {
   "cell_type": "code",
   "execution_count": 11,
   "outputs": [],
   "source": [],
   "metadata": {
    "collapsed": false,
    "ExecuteTime": {
     "end_time": "2023-07-09T05:11:18.846410900Z",
     "start_time": "2023-07-09T05:11:18.831569700Z"
    }
   }
  },
  {
   "cell_type": "markdown",
   "source": [],
   "metadata": {
    "collapsed": false
   }
  }
 ],
 "metadata": {
  "kernelspec": {
   "display_name": "Python 3.11.0 64-bit",
   "language": "python",
   "name": "python3"
  },
  "language_info": {
   "name": "python",
   "version": "3.11.0"
  },
  "orig_nbformat": 4,
  "vscode": {
   "interpreter": {
    "hash": "43daf46ee1a2bec30820ad54ca49c547678bba27ad881deae1888b1ba966de35"
   }
  }
 },
 "nbformat": 4,
 "nbformat_minor": 2
}
